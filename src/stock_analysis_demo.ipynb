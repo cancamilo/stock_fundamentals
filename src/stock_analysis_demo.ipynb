{
 "cells": [
  {
   "cell_type": "markdown",
   "id": "fb7ec37e",
   "metadata": {},
   "source": [
    "# Modular Stock Fundamental Analysis\n",
    "\n",
    "This notebook demonstrates the usage of the modular stock analysis architecture. The architecture separates concerns into distinct modules:\n",
    "1. Data retrieval\n",
    "2. Financial analysis\n",
    "3. Technical analysis\n",
    "4. Visualization\n",
    "5. AI-powered analysis\n",
    "6. Report generation and export\n",
    "\n",
    "Let's start by importing the required modules."
   ]
  },
  {
   "cell_type": "code",
   "execution_count": null,
   "id": "3a65260e",
   "metadata": {},
   "outputs": [],
   "source": [
    "# Import required libraries and custom modules\n",
    "import os\n",
    "import pandas as pd\n",
    "import numpy as np\n",
    "from IPython.display import display, Markdown\n",
    "from datetime import datetime\n",
    "\n",
    "# Import our custom modules\n",
    "from src.data import StockData\n",
    "from src.financial_analysis import FinancialAnalysis\n",
    "from src.technical_analysis import TechnicalAnalysis\n",
    "from visualization import StockVisualization\n",
    "from src.ai_analysis import AIAnalysis\n",
    "from src.reporting import ReportGenerator\n",
    "\n",
    "# To silence future warnings\n",
    "import warnings\n",
    "warnings.filterwarnings('ignore')"
   ]
  },
  {
   "cell_type": "markdown",
   "id": "4e05c004",
   "metadata": {},
   "source": [
    "## Input Stock Symbol\n",
    "\n",
    "Enter the stock symbol you want to analyze."
   ]
  },
  {
   "cell_type": "code",
   "execution_count": 2,
   "id": "f0007bf6",
   "metadata": {},
   "outputs": [
    {
     "name": "stdout",
     "output_type": "stream",
     "text": [
      "Analyzing FSLR...\n"
     ]
    }
   ],
   "source": [
    "# Input stock symbol\n",
    "stock_symbol = \"FSLR\"  # You can replace with input() to take user input\n",
    "print(f\"Analyzing {stock_symbol}...\")"
   ]
  },
  {
   "cell_type": "markdown",
   "id": "2f6a39c3",
   "metadata": {},
   "source": [
    "## 1. Data Collection\n",
    "\n",
    "Let's gather historical price data, company information, and financial statements using our `StockData` class."
   ]
  },
  {
   "cell_type": "code",
   "execution_count": null,
   "id": "fe84955a",
   "metadata": {},
   "outputs": [
    {
     "name": "stdout",
     "output_type": "stream",
     "text": [
      "Company: First Solar, Inc.\n",
      "Sector: Technology\n",
      "Industry: Solar\n",
      "Current Price: $127.98\n"
     ]
    }
   ],
   "source": [
    "# Initialize StockData\n",
    "stock_data = StockData(stock_symbol)\n",
    "\n",
    "# Fetch stock data\n",
    "if stock_data.fetch_stock_data(years=2):\n",
    "    company_info = stock_data.get_company_info()\n",
    "    print(f\"Company: {company_info['company_name']}\")\n",
    "    print(f\"Sector: {company_info['sector']}\")\n",
    "    print(f\"Industry: {company_info['industry']}\")\n",
    "    print(f\"Current Price: ${company_info['current_price']}\")\n",
    "    \n",
    "    # Fetch financial statements\n",
    "    stock_data.fetch_financial_statements()"
   ]
  },
  {
   "cell_type": "code",
   "execution_count": 5,
   "id": "1ee0df3c",
   "metadata": {},
   "outputs": [
    {
     "name": "stdout",
     "output_type": "stream",
     "text": [
      "\n",
      "Price Trends:\n",
      "3-month price change: -33.65% (Change in closing price over the last 3 months)\n",
      "6-month price change: -34.79% (Change in closing price over the last 6 months)\n",
      "12-month price change: -26.89% (Change in closing price over the last 12 months)\n",
      "All-time high: $300.71 on 2024-06-12 (Highest closing price in available data)\n",
      "All-time low: $120.38 on 2025-04-08 (Lowest closing price in available data)\n"
     ]
    }
   ],
   "source": [
    "# Calculate price trends\n",
    "price_trends = stock_data.calculate_price_trends()\n",
    "print(\"\\nPrice Trends:\")\n",
    "print(price_trends)"
   ]
  },
  {
   "cell_type": "markdown",
   "id": "7e146b27",
   "metadata": {},
   "source": [
    "## 2. Financial Ratio Analysis\n",
    "\n",
    "Calculate and visualize key financial ratios that are important for fundamental analysis."
   ]
  },
  {
   "cell_type": "code",
   "execution_count": 6,
   "id": "4c7eb2f7",
   "metadata": {},
   "outputs": [
    {
     "name": "stdout",
     "output_type": "stream",
     "text": [
      "\n",
      "Key Financial Ratios:\n"
     ]
    },
    {
     "data": {
      "text/html": [
       "<div>\n",
       "<style scoped>\n",
       "    .dataframe tbody tr th:only-of-type {\n",
       "        vertical-align: middle;\n",
       "    }\n",
       "\n",
       "    .dataframe tbody tr th {\n",
       "        vertical-align: top;\n",
       "    }\n",
       "\n",
       "    .dataframe thead th {\n",
       "        text-align: right;\n",
       "    }\n",
       "</style>\n",
       "<table border=\"1\" class=\"dataframe\">\n",
       "  <thead>\n",
       "    <tr style=\"text-align: right;\">\n",
       "      <th></th>\n",
       "      <th>Ratio</th>\n",
       "      <th>Formatted Value</th>\n",
       "    </tr>\n",
       "  </thead>\n",
       "  <tbody>\n",
       "    <tr>\n",
       "      <th>0</th>\n",
       "      <td>P/E Ratio</td>\n",
       "      <td>10.65</td>\n",
       "    </tr>\n",
       "    <tr>\n",
       "      <th>1</th>\n",
       "      <td>Forward P/E</td>\n",
       "      <td>6.14</td>\n",
       "    </tr>\n",
       "    <tr>\n",
       "      <th>2</th>\n",
       "      <td>P/B Ratio</td>\n",
       "      <td>1.72</td>\n",
       "    </tr>\n",
       "    <tr>\n",
       "      <th>3</th>\n",
       "      <td>P/S Ratio</td>\n",
       "      <td>3.26</td>\n",
       "    </tr>\n",
       "    <tr>\n",
       "      <th>4</th>\n",
       "      <td>EV/EBITDA</td>\n",
       "      <td>6.95</td>\n",
       "    </tr>\n",
       "    <tr>\n",
       "      <th>5</th>\n",
       "      <td>PEG Ratio</td>\n",
       "      <td>0.84</td>\n",
       "    </tr>\n",
       "    <tr>\n",
       "      <th>6</th>\n",
       "      <td>Gross Margin</td>\n",
       "      <td>44.17%</td>\n",
       "    </tr>\n",
       "    <tr>\n",
       "      <th>7</th>\n",
       "      <td>Operating Margin</td>\n",
       "      <td>30.17%</td>\n",
       "    </tr>\n",
       "    <tr>\n",
       "      <th>8</th>\n",
       "      <td>Net Profit Margin</td>\n",
       "      <td>30.72%</td>\n",
       "    </tr>\n",
       "    <tr>\n",
       "      <th>9</th>\n",
       "      <td>ROE</td>\n",
       "      <td>17.62%</td>\n",
       "    </tr>\n",
       "    <tr>\n",
       "      <th>10</th>\n",
       "      <td>ROA</td>\n",
       "      <td>7.75%</td>\n",
       "    </tr>\n",
       "    <tr>\n",
       "      <th>11</th>\n",
       "      <td>Current Ratio</td>\n",
       "      <td>2.45</td>\n",
       "    </tr>\n",
       "    <tr>\n",
       "      <th>12</th>\n",
       "      <td>Quick Ratio</td>\n",
       "      <td>1.72</td>\n",
       "    </tr>\n",
       "    <tr>\n",
       "      <th>13</th>\n",
       "      <td>Debt-to-Equity</td>\n",
       "      <td>9.01</td>\n",
       "    </tr>\n",
       "    <tr>\n",
       "      <th>14</th>\n",
       "      <td>Interest Coverage</td>\n",
       "      <td>N/A</td>\n",
       "    </tr>\n",
       "    <tr>\n",
       "      <th>15</th>\n",
       "      <td>Dividend Yield</td>\n",
       "      <td>N/A</td>\n",
       "    </tr>\n",
       "    <tr>\n",
       "      <th>16</th>\n",
       "      <td>Payout Ratio</td>\n",
       "      <td>0.00%</td>\n",
       "    </tr>\n",
       "    <tr>\n",
       "      <th>17</th>\n",
       "      <td>Revenue Growth (YoY)</td>\n",
       "      <td>30.70%</td>\n",
       "    </tr>\n",
       "    <tr>\n",
       "      <th>18</th>\n",
       "      <td>Earnings Growth (YoY)</td>\n",
       "      <td>12.70%</td>\n",
       "    </tr>\n",
       "  </tbody>\n",
       "</table>\n",
       "</div>"
      ],
      "text/plain": [
       "                    Ratio Formatted Value\n",
       "0               P/E Ratio           10.65\n",
       "1             Forward P/E            6.14\n",
       "2               P/B Ratio            1.72\n",
       "3               P/S Ratio            3.26\n",
       "4               EV/EBITDA            6.95\n",
       "5               PEG Ratio            0.84\n",
       "6            Gross Margin          44.17%\n",
       "7        Operating Margin          30.17%\n",
       "8       Net Profit Margin          30.72%\n",
       "9                     ROE          17.62%\n",
       "10                    ROA           7.75%\n",
       "11          Current Ratio            2.45\n",
       "12            Quick Ratio            1.72\n",
       "13         Debt-to-Equity            9.01\n",
       "14      Interest Coverage             N/A\n",
       "15         Dividend Yield             N/A\n",
       "16           Payout Ratio           0.00%\n",
       "17   Revenue Growth (YoY)          30.70%\n",
       "18  Earnings Growth (YoY)          12.70%"
      ]
     },
     "metadata": {},
     "output_type": "display_data"
    }
   ],
   "source": [
    "# Initialize Financial Analysis\n",
    "fin_analysis = FinancialAnalysis(stock_data)\n",
    "\n",
    "# Calculate financial ratios\n",
    "financial_ratios = fin_analysis.calculate_financial_ratios()\n",
    "\n",
    "# Format and display ratios\n",
    "ratios_df = fin_analysis.format_financial_ratios(financial_ratios)\n",
    "print(\"\\nKey Financial Ratios:\")\n",
    "display(ratios_df)"
   ]
  },
  {
   "cell_type": "code",
   "execution_count": 7,
   "id": "a3a0f91f",
   "metadata": {},
   "outputs": [
    {
     "ename": "AttributeError",
     "evalue": "'_LocIndexer' object has no attribute 'get'",
     "output_type": "error",
     "traceback": [
      "\u001b[0;31m---------------------------------------------------------------------------\u001b[0m",
      "\u001b[0;31mAttributeError\u001b[0m                            Traceback (most recent call last)",
      "Cell \u001b[0;32mIn[7], line 2\u001b[0m\n\u001b[1;32m      1\u001b[0m \u001b[38;5;66;03m# Get financial highlights\u001b[39;00m\n\u001b[0;32m----> 2\u001b[0m financial_highlights \u001b[38;5;241m=\u001b[39m \u001b[43mfin_analysis\u001b[49m\u001b[38;5;241;43m.\u001b[39;49m\u001b[43mget_financial_highlights\u001b[49m\u001b[43m(\u001b[49m\u001b[43m)\u001b[49m\n\u001b[1;32m      3\u001b[0m \u001b[38;5;28mprint\u001b[39m(\u001b[38;5;124m\"\u001b[39m\u001b[38;5;130;01m\\n\u001b[39;00m\u001b[38;5;124mRecent Annual Financial Highlights (in millions USD):\u001b[39m\u001b[38;5;124m\"\u001b[39m)\n\u001b[1;32m      4\u001b[0m \u001b[38;5;28mprint\u001b[39m(financial_highlights)\n",
      "File \u001b[0;32m~/Documents/agent_repos/stock_fundamentals/financial_analysis.py:132\u001b[0m, in \u001b[0;36mFinancialAnalysis.get_financial_highlights\u001b[0;34m(self)\u001b[0m\n\u001b[1;32m    130\u001b[0m \u001b[38;5;28;01mif\u001b[39;00m \u001b[38;5;129;01mnot\u001b[39;00m \u001b[38;5;28mself\u001b[39m\u001b[38;5;241m.\u001b[39mstock_data\u001b[38;5;241m.\u001b[39mincome_stmt_annual\u001b[38;5;241m.\u001b[39mempty:\n\u001b[1;32m    131\u001b[0m     recent_year \u001b[38;5;241m=\u001b[39m \u001b[38;5;28mself\u001b[39m\u001b[38;5;241m.\u001b[39mstock_data\u001b[38;5;241m.\u001b[39mincome_stmt_annual\u001b[38;5;241m.\u001b[39mcolumns[\u001b[38;5;241m0\u001b[39m]\n\u001b[0;32m--> 132\u001b[0m     revenue \u001b[38;5;241m=\u001b[39m \u001b[38;5;28;43mself\u001b[39;49m\u001b[38;5;241;43m.\u001b[39;49m\u001b[43mstock_data\u001b[49m\u001b[38;5;241;43m.\u001b[39;49m\u001b[43mincome_stmt_annual\u001b[49m\u001b[38;5;241;43m.\u001b[39;49m\u001b[43mloc\u001b[49m\u001b[38;5;241;43m.\u001b[39;49m\u001b[43mget\u001b[49m(\u001b[38;5;124m'\u001b[39m\u001b[38;5;124mTotal Revenue\u001b[39m\u001b[38;5;124m'\u001b[39m, \u001b[38;5;28;01mNone\u001b[39;00m)\n\u001b[1;32m    133\u001b[0m     \u001b[38;5;28;01mif\u001b[39;00m revenue \u001b[38;5;129;01mis\u001b[39;00m \u001b[38;5;129;01mnot\u001b[39;00m \u001b[38;5;28;01mNone\u001b[39;00m:\n\u001b[1;32m    134\u001b[0m         revenue \u001b[38;5;241m=\u001b[39m revenue\u001b[38;5;241m.\u001b[39mget(recent_year, \u001b[38;5;241m0\u001b[39m) \u001b[38;5;241m/\u001b[39m \u001b[38;5;241m1e6\u001b[39m\n",
      "\u001b[0;31mAttributeError\u001b[0m: '_LocIndexer' object has no attribute 'get'"
     ]
    }
   ],
   "source": [
    "# Get financial highlights\n",
    "financial_highlights = fin_analysis.get_financial_highlights()\n",
    "print(\"\\nRecent Annual Financial Highlights (in millions USD):\")\n",
    "print(financial_highlights)"
   ]
  },
  {
   "cell_type": "markdown",
   "id": "d50ebba2",
   "metadata": {},
   "source": [
    "## 3. Historical Price and Volume Analysis"
   ]
  },
  {
   "cell_type": "code",
   "execution_count": null,
   "id": "539f3f21",
   "metadata": {},
   "outputs": [],
   "source": [
    "# Initialize Visualization\n",
    "viz = StockVisualization(stock_data)\n",
    "\n",
    "# Create price and volume chart\n",
    "price_volume_chart = viz.create_price_volume_chart()\n",
    "\n",
    "# Display the chart\n",
    "viz.safe_plot_display(price_volume_chart)"
   ]
  },
  {
   "cell_type": "markdown",
   "id": "6842b3fe",
   "metadata": {},
   "source": [
    "## 4. Technical Analysis Indicators"
   ]
  },
  {
   "cell_type": "code",
   "execution_count": null,
   "id": "d06c08a6",
   "metadata": {},
   "outputs": [],
   "source": [
    "# Initialize Technical Analysis\n",
    "tech_analysis = TechnicalAnalysis(stock_data)\n",
    "\n",
    "# Calculate technical indicators\n",
    "tech_data = tech_analysis.calculate_technical_indicators()\n",
    "\n",
    "# Get recent indicator values for later use in AI analysis\n",
    "recent_indicators = tech_analysis.get_recent_indicators(tech_data)\n",
    "print(\"Recent Technical Indicators:\")\n",
    "for indicator, value in recent_indicators.items():\n",
    "    print(f\"{indicator}: {value:.2f}\")"
   ]
  },
  {
   "cell_type": "code",
   "execution_count": null,
   "id": "21d4e3ed",
   "metadata": {},
   "outputs": [],
   "source": [
    "# Create technical analysis chart\n",
    "tech_chart = viz.create_technical_chart(tech_data)\n",
    "\n",
    "# Display the chart\n",
    "viz.safe_plot_display(tech_chart)"
   ]
  },
  {
   "cell_type": "markdown",
   "id": "c6bf93dd",
   "metadata": {},
   "source": [
    "## 5. News and Geopolitical Analysis\n",
    "\n",
    "Let's fetch and analyze recent news about the company using OpenAI. Ensure you have an OpenAI API key stored in your environment variables or in a .env file."
   ]
  },
  {
   "cell_type": "code",
   "execution_count": null,
   "id": "968ca836",
   "metadata": {},
   "outputs": [],
   "source": [
    "# Initialize AI Analysis module\n",
    "ai = AIAnalysis()  # Will use OPENAI_API_KEY from environment variables"
   ]
  },
  {
   "cell_type": "code",
   "execution_count": null,
   "id": "0f64a45d",
   "metadata": {},
   "outputs": [],
   "source": [
    "# Get news analysis\n",
    "company_name = company_info['company_name']\n",
    "news_analysis = ai.get_news_analysis(company_name, stock_symbol, price_trends)\n",
    "print(f\"\\nNews and Geopolitical Analysis for {company_name} ({stock_symbol}):\\n\")\n",
    "\n",
    "# Display formatted news analysis\n",
    "ReportGenerator.display_markdown(news_analysis)"
   ]
  },
  {
   "cell_type": "markdown",
   "id": "ee2a4c7d",
   "metadata": {},
   "source": [
    "## 6. Comprehensive AI-Generated Analysis Report\n",
    "\n",
    "Now, let's generate a comprehensive report that analyzes all the data we've collected."
   ]
  },
  {
   "cell_type": "code",
   "execution_count": null,
   "id": "2fcce110",
   "metadata": {},
   "outputs": [],
   "source": [
    "# Generate comprehensive report\n",
    "print(\"\\nGenerating comprehensive investment analysis report...\\n\")\n",
    "comprehensive_report = ai.generate_comprehensive_report(\n",
    "    stock_symbol,\n",
    "    stock_data.info,\n",
    "    financial_ratios,\n",
    "    recent_indicators,\n",
    "    news_analysis,\n",
    "    price_trends=price_trends\n",
    ")"
   ]
  },
  {
   "cell_type": "code",
   "execution_count": null,
   "id": "b5d5246a",
   "metadata": {},
   "outputs": [],
   "source": [
    "# Display the report as formatted markdown\n",
    "ReportGenerator.display_markdown(comprehensive_report)"
   ]
  },
  {
   "cell_type": "markdown",
   "id": "404e42e2",
   "metadata": {},
   "source": [
    "## 7. Export Report to PDF (Optional)\n",
    "\n",
    "You can save the comprehensive report to a PDF file for sharing or future reference."
   ]
  },
  {
   "cell_type": "code",
   "execution_count": null,
   "id": "d903fbd9",
   "metadata": {},
   "outputs": [],
   "source": [
    "# Export report to PDF\n",
    "report_status = ReportGenerator.export_report_to_pdf(comprehensive_report, stock_symbol)\n",
    "print(report_status)"
   ]
  }
 ],
 "metadata": {
  "kernelspec": {
   "display_name": ".venv",
   "language": "python",
   "name": "python3"
  },
  "language_info": {
   "codemirror_mode": {
    "name": "ipython",
    "version": 3
   },
   "file_extension": ".py",
   "mimetype": "text/x-python",
   "name": "python",
   "nbconvert_exporter": "python",
   "pygments_lexer": "ipython3",
   "version": "3.10.4"
  }
 },
 "nbformat": 4,
 "nbformat_minor": 5
}
