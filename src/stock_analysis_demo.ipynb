{
 "cells": [
  {
   "cell_type": "markdown",
   "id": "fb7ec37e",
   "metadata": {},
   "source": [
    "# Stock Fundamental Analysis\n",
    "\n",
    "This notebook demonstrates the usage of the modular stock analysis architecture. The architecture separates concerns into distinct modules:\n",
    "1. Data retrieval\n",
    "2. Financial analysis\n",
    "3. Technical analysis\n",
    "4. Visualization\n",
    "5. AI-powered analysis\n",
    "6. Report generation and export"
   ]
  },
  {
   "cell_type": "code",
   "execution_count": 50,
   "id": "94baab48",
   "metadata": {},
   "outputs": [
    {
     "name": "stdout",
     "output_type": "stream",
     "text": [
      "Project root already in Python path\n",
      "Current working directory: /Users/camiloramirezf/Documents/agent_repos/stock_fundamentals/src\n",
      "Python path: ['/Users/camiloramirezf/Documents/agent_repos/stock_fundamentals', '/Users/camiloramirezf/.pyenv/versions/3.10.4/lib/python310.zip', '/Users/camiloramirezf/.pyenv/versions/3.10.4/lib/python3.10', '/Users/camiloramirezf/.pyenv/versions/3.10.4/lib/python3.10/lib-dynload', '', '/Users/camiloramirezf/Documents/agent_repos/stock_fundamentals/.venv/lib/python3.10/site-packages']\n"
     ]
    }
   ],
   "source": [
    "# Add the project root directory to the Python path to allow importing from src\n",
    "import sys\n",
    "import os\n",
    "\n",
    "# Get the current directory\n",
    "current_dir = os.path.dirname(os.path.abspath('__file__'))\n",
    "\n",
    "# Go up one level to reach the project root if needed\n",
    "project_root = os.path.dirname(current_dir) if current_dir.endswith('src') else current_dir\n",
    "\n",
    "# Add the project root to Python path if it's not already there\n",
    "if project_root not in sys.path:\n",
    "    sys.path.insert(0, project_root)\n",
    "    print(f\"Added {project_root} to Python path\")\n",
    "else:\n",
    "    print(\"Project root already in Python path\")\n",
    "\n",
    "# Show the current Python path for debugging\n",
    "print(f\"Current working directory: {os.getcwd()}\")\n",
    "print(f\"Python path: {sys.path}\")"
   ]
  },
  {
   "cell_type": "code",
   "execution_count": 51,
   "id": "3a65260e",
   "metadata": {},
   "outputs": [],
   "source": [
    "# Import required libraries and custom modules\n",
    "import os\n",
    "import pandas as pd\n",
    "import numpy as np\n",
    "from IPython.display import display, Markdown, Image, HTML\n",
    "from datetime import datetime\n",
    "import matplotlib.pyplot as plt\n",
    "import io\n",
    "import base64\n",
    "\n",
    "# Import our custom modules\n",
    "from src.data import StockData\n",
    "from src.financial_analysis import FinancialAnalysis\n",
    "from src.technical_analysis import TechnicalAnalysis\n",
    "from visualization import StockVisualization\n",
    "from src.ai_analysis import AIAnalysis\n",
    "from src.reporting import ReportGenerator\n",
    "\n",
    "# To silence future warnings\n",
    "import warnings\n",
    "warnings.filterwarnings('ignore')"
   ]
  },
  {
   "cell_type": "markdown",
   "id": "4e05c004",
   "metadata": {},
   "source": [
    "## Input Stock Symbol\n",
    "\n",
    "Enter the stock symbol you want to analyze."
   ]
  },
  {
   "cell_type": "code",
   "execution_count": 52,
   "id": "f0007bf6",
   "metadata": {},
   "outputs": [
    {
     "name": "stdout",
     "output_type": "stream",
     "text": [
      "Analyzing FSLR...\n"
     ]
    }
   ],
   "source": [
    "# Input stock symbol\n",
    "stock_symbol = \"FSLR\" # \"FSLR\"  # You can replace with input() to take user input\n",
    "print(f\"Analyzing {stock_symbol}...\")"
   ]
  },
  {
   "cell_type": "markdown",
   "id": "2f6a39c3",
   "metadata": {},
   "source": [
    "## 1. Data Collection\n",
    "\n",
    "Let's gather historical price data, company information, and financial statements using our `StockData` class."
   ]
  },
  {
   "cell_type": "code",
   "execution_count": 53,
   "id": "fe84955a",
   "metadata": {},
   "outputs": [
    {
     "name": "stdout",
     "output_type": "stream",
     "text": [
      "Company: First Solar, Inc.\n",
      "Sector: Technology\n",
      "Industry: Solar\n",
      "Current Price: $127.98\n"
     ]
    }
   ],
   "source": [
    "# Initialize StockData\n",
    "stock_data = StockData(stock_symbol)\n",
    "\n",
    "# Fetch stock data\n",
    "if stock_data.fetch_stock_data(years=2):\n",
    "    company_info = stock_data.get_company_info()\n",
    "    print(f\"Company: {company_info['company_name']}\")\n",
    "    print(f\"Sector: {company_info['sector']}\")\n",
    "    print(f\"Industry: {company_info['industry']}\")\n",
    "    print(f\"Current Price: ${company_info['current_price']}\")\n",
    "    \n",
    "    # Fetch financial statements\n",
    "    stock_data.fetch_financial_statements()"
   ]
  },
  {
   "cell_type": "code",
   "execution_count": 54,
   "id": "1ee0df3c",
   "metadata": {},
   "outputs": [
    {
     "name": "stdout",
     "output_type": "stream",
     "text": [
      "\n",
      "Price Trends:\n",
      "3-month price change: -33.65% (Change in closing price over the last 3 months)\n",
      "6-month price change: -34.79% (Change in closing price over the last 6 months)\n",
      "12-month price change: -27.40% (Change in closing price over the last 12 months)\n",
      "All-time high: $300.71 on 2024-06-12 (Highest closing price in available data)\n",
      "All-time low: $120.38 on 2025-04-08 (Lowest closing price in available data)\n"
     ]
    }
   ],
   "source": [
    "# Calculate price trends\n",
    "price_trends = stock_data.calculate_price_trends()\n",
    "print(\"\\nPrice Trends:\")\n",
    "print(price_trends)"
   ]
  },
  {
   "cell_type": "markdown",
   "id": "7e146b27",
   "metadata": {},
   "source": [
    "## 2. Financial Ratio Analysis\n",
    "\n",
    "Calculate and visualize key financial ratios that are important for fundamental analysis."
   ]
  },
  {
   "cell_type": "code",
   "execution_count": 55,
   "id": "4c7eb2f7",
   "metadata": {},
   "outputs": [
    {
     "name": "stdout",
     "output_type": "stream",
     "text": [
      "\n",
      "Key Financial Ratios:\n"
     ]
    },
    {
     "data": {
      "text/html": [
       "<div>\n",
       "<style scoped>\n",
       "    .dataframe tbody tr th:only-of-type {\n",
       "        vertical-align: middle;\n",
       "    }\n",
       "\n",
       "    .dataframe tbody tr th {\n",
       "        vertical-align: top;\n",
       "    }\n",
       "\n",
       "    .dataframe thead th {\n",
       "        text-align: right;\n",
       "    }\n",
       "</style>\n",
       "<table border=\"1\" class=\"dataframe\">\n",
       "  <thead>\n",
       "    <tr style=\"text-align: right;\">\n",
       "      <th></th>\n",
       "      <th>Ratio</th>\n",
       "      <th>Formatted Value</th>\n",
       "    </tr>\n",
       "  </thead>\n",
       "  <tbody>\n",
       "    <tr>\n",
       "      <th>0</th>\n",
       "      <td>P/E Ratio</td>\n",
       "      <td>10.65</td>\n",
       "    </tr>\n",
       "    <tr>\n",
       "      <th>1</th>\n",
       "      <td>Forward P/E</td>\n",
       "      <td>6.14</td>\n",
       "    </tr>\n",
       "    <tr>\n",
       "      <th>2</th>\n",
       "      <td>P/B Ratio</td>\n",
       "      <td>1.72</td>\n",
       "    </tr>\n",
       "    <tr>\n",
       "      <th>3</th>\n",
       "      <td>P/S Ratio</td>\n",
       "      <td>3.26</td>\n",
       "    </tr>\n",
       "    <tr>\n",
       "      <th>4</th>\n",
       "      <td>EV/EBITDA</td>\n",
       "      <td>6.95</td>\n",
       "    </tr>\n",
       "    <tr>\n",
       "      <th>5</th>\n",
       "      <td>PEG Ratio</td>\n",
       "      <td>0.84</td>\n",
       "    </tr>\n",
       "    <tr>\n",
       "      <th>6</th>\n",
       "      <td>Gross Margin</td>\n",
       "      <td>44.17%</td>\n",
       "    </tr>\n",
       "    <tr>\n",
       "      <th>7</th>\n",
       "      <td>Operating Margin</td>\n",
       "      <td>30.17%</td>\n",
       "    </tr>\n",
       "    <tr>\n",
       "      <th>8</th>\n",
       "      <td>Net Profit Margin</td>\n",
       "      <td>30.72%</td>\n",
       "    </tr>\n",
       "    <tr>\n",
       "      <th>9</th>\n",
       "      <td>ROE</td>\n",
       "      <td>17.62%</td>\n",
       "    </tr>\n",
       "    <tr>\n",
       "      <th>10</th>\n",
       "      <td>ROA</td>\n",
       "      <td>7.75%</td>\n",
       "    </tr>\n",
       "    <tr>\n",
       "      <th>11</th>\n",
       "      <td>Current Ratio</td>\n",
       "      <td>2.45</td>\n",
       "    </tr>\n",
       "    <tr>\n",
       "      <th>12</th>\n",
       "      <td>Quick Ratio</td>\n",
       "      <td>1.72</td>\n",
       "    </tr>\n",
       "    <tr>\n",
       "      <th>13</th>\n",
       "      <td>Debt-to-Equity</td>\n",
       "      <td>9.01</td>\n",
       "    </tr>\n",
       "    <tr>\n",
       "      <th>14</th>\n",
       "      <td>Interest Coverage</td>\n",
       "      <td>N/A</td>\n",
       "    </tr>\n",
       "    <tr>\n",
       "      <th>15</th>\n",
       "      <td>Dividend Yield</td>\n",
       "      <td>N/A</td>\n",
       "    </tr>\n",
       "    <tr>\n",
       "      <th>16</th>\n",
       "      <td>Payout Ratio</td>\n",
       "      <td>0.00%</td>\n",
       "    </tr>\n",
       "    <tr>\n",
       "      <th>17</th>\n",
       "      <td>Revenue Growth (YoY)</td>\n",
       "      <td>30.70%</td>\n",
       "    </tr>\n",
       "    <tr>\n",
       "      <th>18</th>\n",
       "      <td>Earnings Growth (YoY)</td>\n",
       "      <td>12.70%</td>\n",
       "    </tr>\n",
       "  </tbody>\n",
       "</table>\n",
       "</div>"
      ],
      "text/plain": [
       "                    Ratio Formatted Value\n",
       "0               P/E Ratio           10.65\n",
       "1             Forward P/E            6.14\n",
       "2               P/B Ratio            1.72\n",
       "3               P/S Ratio            3.26\n",
       "4               EV/EBITDA            6.95\n",
       "5               PEG Ratio            0.84\n",
       "6            Gross Margin          44.17%\n",
       "7        Operating Margin          30.17%\n",
       "8       Net Profit Margin          30.72%\n",
       "9                     ROE          17.62%\n",
       "10                    ROA           7.75%\n",
       "11          Current Ratio            2.45\n",
       "12            Quick Ratio            1.72\n",
       "13         Debt-to-Equity            9.01\n",
       "14      Interest Coverage             N/A\n",
       "15         Dividend Yield             N/A\n",
       "16           Payout Ratio           0.00%\n",
       "17   Revenue Growth (YoY)          30.70%\n",
       "18  Earnings Growth (YoY)          12.70%"
      ]
     },
     "metadata": {},
     "output_type": "display_data"
    }
   ],
   "source": [
    "# Initialize Financial Analysis\n",
    "fin_analysis = FinancialAnalysis(stock_data)\n",
    "\n",
    "# Calculate financial ratios\n",
    "financial_ratios = fin_analysis.calculate_financial_ratios()\n",
    "\n",
    "# Format and display ratios\n",
    "ratios_df = fin_analysis.format_financial_ratios(financial_ratios)\n",
    "print(\"\\nKey Financial Ratios:\")\n",
    "display(ratios_df)"
   ]
  },
  {
   "cell_type": "code",
   "execution_count": 56,
   "id": "a3a0f91f",
   "metadata": {},
   "outputs": [
    {
     "name": "stdout",
     "output_type": "stream",
     "text": [
      "\n",
      "Recent Annual Financial Highlights (in millions USD):\n",
      "Revenue: $4206.29M\n",
      "Net Income: $1292.04M\n",
      "EBITDA: $1868.71M\n",
      "Total Assets: $12124.36M\n",
      "Total Liabilities: $4146784000.00M\n",
      "Equity: $-4146771875.64M\n"
     ]
    }
   ],
   "source": [
    "# Get financial highlights\n",
    "financial_highlights = fin_analysis.get_financial_highlights()\n",
    "print(\"\\nRecent Annual Financial Highlights (in millions USD):\")\n",
    "print(financial_highlights)"
   ]
  },
  {
   "cell_type": "markdown",
   "id": "d50ebba2",
   "metadata": {},
   "source": [
    "## 3. Historical Price and Volume Analysis"
   ]
  },
  {
   "cell_type": "code",
   "execution_count": null,
   "id": "539f3f21",
   "metadata": {},
   "outputs": [],
   "source": [
    "# Initialize Visualization\n",
    "viz = StockVisualization(stock_data)\n",
    "\n",
    "# Create price and volume chart\n",
    "price_volume_chart = viz.create_price_volume_chart()\n",
    "\n",
    "# Display the chart\n",
    "# viz.safe_plot_display(price_volume_chart)\n",
    "# TODO: Create static display image method"
   ]
  },
  {
   "cell_type": "markdown",
   "id": "6842b3fe",
   "metadata": {},
   "source": [
    "## 4. Technical Analysis Indicators"
   ]
  },
  {
   "cell_type": "code",
   "execution_count": 39,
   "id": "d06c08a6",
   "metadata": {},
   "outputs": [
    {
     "name": "stdout",
     "output_type": "stream",
     "text": [
      "Recent Technical Indicators:\n",
      "Close: 127.98\n",
      "RSI: 50.50\n",
      "MACD: -3.19\n",
      "MACD_Signal: -4.03\n",
      "MACD_Histogram: 0.84\n",
      "ATR: 9.38\n",
      "BB_Upper: 134.94\n",
      "BB_Middle: 127.96\n",
      "BB_Lower: 120.99\n"
     ]
    }
   ],
   "source": [
    "# Initialize Technical Analysis\n",
    "tech_analysis = TechnicalAnalysis(stock_data)\n",
    "\n",
    "# Calculate technical indicators\n",
    "tech_data = tech_analysis.calculate_technical_indicators()\n",
    "\n",
    "# Get recent indicator values for later use in AI analysis\n",
    "recent_indicators = tech_analysis.get_recent_indicators(tech_data)\n",
    "print(\"Recent Technical Indicators:\")\n",
    "for indicator, value in recent_indicators.items():\n",
    "    print(f\"{indicator}: {value:.2f}\")"
   ]
  },
  {
   "cell_type": "code",
   "execution_count": null,
   "id": "21d4e3ed",
   "metadata": {},
   "outputs": [],
   "source": [
    "# Create technical analysis chart\n",
    "tech_chart = viz.create_technical_chart(tech_data)\n",
    "\n",
    "# Display the chart\n",
    "viz.safe_plot_display(tech_chart)\n",
    "# TODO: Create static display image method"
   ]
  },
  {
   "cell_type": "markdown",
   "id": "c6bf93dd",
   "metadata": {},
   "source": [
    "## 5. News and Geopolitical Analysis\n",
    "\n",
    "Let's fetch and analyze recent news about the company using OpenAI. Ensure you have an OpenAI API key stored in your environment variables or in a .env file."
   ]
  },
  {
   "cell_type": "code",
   "execution_count": 41,
   "id": "968ca836",
   "metadata": {},
   "outputs": [
    {
     "name": "stdout",
     "output_type": "stream",
     "text": [
      "OpenAI client initialized successfully.\n"
     ]
    }
   ],
   "source": [
    "# Initialize AI Analysis module\n",
    "ai = AIAnalysis()  # Will use OPENAI_API_KEY from environment variables"
   ]
  },
  {
   "cell_type": "code",
   "execution_count": 42,
   "id": "0f64a45d",
   "metadata": {},
   "outputs": [
    {
     "name": "stdout",
     "output_type": "stream",
     "text": [
      "\n",
      "News and Geopolitical Analysis for First Solar, Inc. (FSLR):\n",
      "\n"
     ]
    },
    {
     "data": {
      "text/markdown": [
       "**Comprehensive Analysis of First Solar, Inc. (FSLR)**\n",
       "\n",
       "As of April 20, 2025, First Solar, Inc. (FSLR) has experienced notable fluctuations in its stock performance, with a 3-month decline of 33.65%, a 6-month decline of 34.79%, and a 12-month decline of 27.40%. The stock reached its all-time high of $300.71 on June 12, 2024, and its all-time low of $120.38 on April 8, 2025.\n",
       "\n",
       "**1. Recent Earnings Reports and Financial Performance**\n",
       "\n",
       "- **Q4 2024 Earnings (Reported February 25, 2025):**\n",
       "  - **Net Income:** $393 million, a 13% increase from the previous year.\n",
       "  - **Earnings Per Share (EPS):** $3.65, missing analyst estimates of $4.64.\n",
       "  - **Revenue:** $1.51 billion, slightly above expectations of $1.48 billion.\n",
       "  - **2025 Guidance:** Projected net sales between $5.3 billion and $5.8 billion, with EPS between $17.00 and $20.00. ([reuters.com](https://www.reuters.com/business/energy/first-solar-forecasts-higher-2025-sales-initiates-legal-action-against-2025-02-25/?utm_source=openai))\n",
       "\n",
       "**2. Stock Price Development**\n",
       "\n",
       "- **Recent Performance:**\n",
       "  - **Current Price:** $127.98, with a 3.6% increase from the previous close.\n",
       "  - **Intraday High/Low:** $128.50 and $123.32, respectively.\n",
       "  - **Volume:** 2,279,782 shares traded.\n",
       "  - **Recent Trend:** The stock has experienced significant volatility, with a notable decline over the past year.\n",
       "\n",
       "**3. Major Business Developments**\n",
       "\n",
       "- **Sales Forecast:**\n",
       "  - First Solar anticipates higher sales for 2025, projecting net sales between $5.3 billion and $5.8 billion, a 32% increase from the previous year. ([reuters.com](https://www.reuters.com/business/energy/first-solar-forecasts-higher-2025-sales-initiates-legal-action-against-2025-02-25/?utm_source=openai))\n",
       "\n",
       "- **Legal Action:**\n",
       "  - The company initiated legal proceedings against JinkoSolar for patent infringement related to TOPCon technology, aiming to protect its intellectual property. ([reuters.com](https://www.reuters.com/business/energy/first-solar-forecasts-higher-2025-sales-initiates-legal-action-against-2025-02-25/?utm_source=openai))\n",
       "\n",
       "**4. Future Innovations, Partnerships, or Acquisitions**\n",
       "\n",
       "- **Capacity Expansion:**\n",
       "  - First Solar is prepared to expand its manufacturing capacity to meet growing demand, indicating potential growth opportunities. ([fintool.com](https://fintool.com/app/research/companies/FSLR/earnings/Q1%202024?utm_source=openai))\n",
       "\n",
       "**5. Leadership Changes or Organizational Restructuring**\n",
       "\n",
       "- **Insider Selling:**\n",
       "  - CEO Mark R. Widmar sold 21,542 shares on February 28, 2025, at an average price of $141.09, reducing his holdings by 17.24%. ([americanbankingnews.com](https://www.americanbankingnews.com/2025/03/05/first-solar-nasdaqfslr-stock-price-down-2-1-following-insider-selling.html?utm_source=openai))\n",
       "\n",
       "**6. Regulatory Developments Affecting the Company**\n",
       "\n",
       "- **Tariffs on Solar Imports:**\n",
       "  - The Biden administration imposed tariffs on solar panel imports from four Southeast Asian countries, benefiting U.S. producers like First Solar. ([reuters.com](https://www.reuters.com/business/energy/first-solar-forecasts-higher-2025-sales-initiates-legal-action-against-2025-02-25/?utm_source=openai))\n",
       "\n",
       "**7. Macroeconomic Factors Influencing the Company and Its Industry**\n",
       "\n",
       "- **Demand for Renewable Energy:**\n",
       "  - Strong demand from corporations and governments for cleaner energy sources supports the growth of the solar industry. ([reuters.com](https://www.reuters.com/business/energy/first-solar-forecasts-higher-2025-sales-initiates-legal-action-against-2025-02-25/?utm_source=openai))\n",
       "\n",
       "**8. Geopolitical Events Impacting Operations or Supply Chains**\n",
       "\n",
       "- **Trade Policies:**\n",
       "  - The U.S. government's tariffs on Southeast Asian solar imports may affect First Solar's supply chain dynamics. ([reuters.com](https://www.reuters.com/business/energy/first-solar-forecasts-higher-2025-sales-initiates-legal-action-against-2025-02-25/?utm_source=openai))\n",
       "\n",
       "**9. Competitive Landscape Changes**\n",
       "\n",
       "- **Patent Infringement Lawsuit:**\n",
       "  - The legal action against JinkoSolar highlights competitive tensions in the solar industry, particularly concerning technological innovations. ([reuters.com](https://www.reuters.com/business/energy/first-solar-forecasts-higher-2025-sales-initiates-legal-action-against-2025-02-25/?utm_source=openai))\n",
       "\n",
       "**Conclusion**\n",
       "\n",
       "First Solar, Inc. has demonstrated strong financial performance and strategic initiatives, including increased sales forecasts and legal actions to protect its technology. However, challenges such as stock price volatility, insider selling, and external factors like trade policies and competition may impact its future performance. Investors should monitor these developments closely to assess their potential effects on First Solar's stock price and fundamental value. "
      ],
      "text/plain": [
       "<IPython.core.display.Markdown object>"
      ]
     },
     "metadata": {},
     "output_type": "display_data"
    }
   ],
   "source": [
    "# Get news analysis\n",
    "company_name = company_info['company_name']\n",
    "news_analysis = ai.get_news_analysis(company_name, stock_symbol, price_trends)\n",
    "print(f\"\\nNews and Geopolitical Analysis for {company_name} ({stock_symbol}):\\n\")\n",
    "\n",
    "# Display formatted news analysis\n",
    "ReportGenerator.display_markdown(news_analysis)"
   ]
  },
  {
   "cell_type": "markdown",
   "id": "ee2a4c7d",
   "metadata": {},
   "source": [
    "## 6. Comprehensive AI-Generated Analysis Report\n",
    "\n",
    "Now, let's generate a comprehensive report that analyzes all the data we've collected."
   ]
  },
  {
   "cell_type": "code",
   "execution_count": 43,
   "id": "2fcce110",
   "metadata": {},
   "outputs": [
    {
     "name": "stdout",
     "output_type": "stream",
     "text": [
      "\n",
      "Generating comprehensive investment analysis report...\n",
      "\n"
     ]
    }
   ],
   "source": [
    "# Generate comprehensive report\n",
    "print(\"\\nGenerating comprehensive investment analysis report...\\n\")\n",
    "comprehensive_report = ai.generate_comprehensive_report(\n",
    "    stock_symbol,\n",
    "    stock_data.info,\n",
    "    financial_ratios,\n",
    "    recent_indicators,\n",
    "    news_analysis,\n",
    "    price_trends=price_trends\n",
    ")"
   ]
  },
  {
   "cell_type": "code",
   "execution_count": 44,
   "id": "b5d5246a",
   "metadata": {},
   "outputs": [
    {
     "data": {
      "text/markdown": [
       "# Investment Analysis Report for First Solar, Inc. (FSLR)\n",
       "\n",
       "## 1. Executive Summary\n",
       "First Solar, Inc. (FSLR) is a leading player in the solar energy sector, focusing on the manufacturing and deployment of photovoltaic solar modules. As of April 20, 2025, the company has a market capitalization of approximately $13.72 billion. The stock has experienced significant volatility, with a 52-week range of $116.56 to $306.77, and has recently hit an all-time low of $120.38. Despite recent stock price declines, First Solar has reported strong financial performance, including a projected increase in sales for 2025, driven by heightened demand for renewable energy solutions.\n",
       "\n",
       "## 2. Fundamental Analysis\n",
       "### Financial Health\n",
       "- **Market Capitalization:** $13.72 billion\n",
       "- **P/E Ratio:** 10.65 (indicating the stock is undervalued compared to the industry average)\n",
       "- **Forward P/E Ratio:** 6.14 (suggests strong future earnings potential)\n",
       "- **P/B Ratio:** 1.72 (indicates reasonable valuation relative to book value)\n",
       "- **Gross Margin:** 44.17% (strong profitability)\n",
       "- **Operating Margin:** 30.17%\n",
       "- **Net Profit Margin:** 30.72%\n",
       "- **Current Ratio:** 2.45 (indicating good short-term liquidity)\n",
       "- **Debt-to-Equity Ratio:** 9.01 (high leverage, indicating potential risk)\n",
       "\n",
       "### Growth Prospects\n",
       "- **Revenue Growth (YoY):** 30.7% (strong growth trajectory)\n",
       "- **Earnings Growth (YoY):** 12.7%\n",
       "- **2025 Sales Guidance:** Projected between $5.3 billion and $5.8 billion, a 32% increase from the previous year.\n",
       "\n",
       "## 3. Technical Analysis\n",
       "- **Current Price:** $127.98\n",
       "- **52-Week Range:** $116.56 - $306.77\n",
       "- **3-Month Price Change:** -33.65%\n",
       "- **6-Month Price Change:** -34.79%\n",
       "- **12-Month Price Change:** -27.40%\n",
       "- **RSI:** 50.50 (neutral, indicating no immediate overbought or oversold conditions)\n",
       "- **MACD:** -3.19 (indicating bearish momentum)\n",
       "- **Bollinger Bands:** \n",
       "  - Upper Band: $134.94\n",
       "  - Lower Band: $120.99\n",
       "  - Current Price near the middle band suggests potential for price stabilization.\n",
       "\n",
       "## 4. News Impact Analysis\n",
       "Recent news has significant implications for FSLR:\n",
       "- **Earnings Report:** Q4 2024 earnings showed a net income increase of 13%, but EPS missed expectations, which may have contributed to stock volatility.\n",
       "- **Sales Forecast:** The company’s guidance for 2025 indicates strong growth potential, which could support stock recovery.\n",
       "- **Legal Action:** The lawsuit against JinkoSolar for patent infringement may protect FSLR's market position and enhance its competitive edge.\n",
       "- **Tariffs on Imports:** Tariffs on solar imports from Southeast Asia could benefit U.S. manufacturers like FSLR, potentially increasing market share.\n",
       "\n",
       "## 5. Risk Assessment\n",
       "- **High Debt Levels:** The debt-to-equity ratio of 9.01 indicates significant leverage, which may pose risks in a rising interest rate environment.\n",
       "- **Market Volatility:** The stock has shown considerable price fluctuations, which could deter risk-averse investors.\n",
       "- **Competitive Landscape:** Intense competition and potential legal challenges in the solar industry could impact profitability.\n",
       "- **Regulatory Risks:** Changes in government policies or tariffs could affect operational costs and market dynamics.\n",
       "\n",
       "## 6. Investment Outlook\n",
       "### Strengths\n",
       "- Strong revenue and earnings growth projections.\n",
       "- Robust gross and net profit margins.\n",
       "- Strategic legal actions to protect intellectual property.\n",
       "\n",
       "### Weaknesses\n",
       "- High debt levels may pose risks.\n",
       "- Recent stock price volatility could deter investors.\n",
       "\n",
       "### Opportunities\n",
       "- Expanding manufacturing capacity to meet increasing demand.\n",
       "- Growing market for renewable energy solutions.\n",
       "\n",
       "### Threats\n",
       "- Intense competition in the solar industry.\n",
       "- Regulatory changes affecting tariffs and trade policies.\n",
       "\n",
       "## 7. Recommendation\n",
       "**Recommendation: Buy**\n",
       "\n",
       "### Rationale:\n",
       "- **Valuation:** With a low P/E ratio and strong growth prospects, FSLR appears undervalued relative to its potential.\n",
       "- **Growth Potential:** The projected revenue increase and strong demand for solar energy present significant upside.\n",
       "- **Market Position:** Legal protections and tariffs favoring U.S. manufacturers position FSLR well in the competitive landscape.\n",
       "\n",
       "Investors should consider the current price as an attractive entry point, especially given the company's strong fundamentals and growth trajectory. However, they should remain vigilant regarding market volatility and external risks."
      ],
      "text/plain": [
       "<IPython.core.display.Markdown object>"
      ]
     },
     "metadata": {},
     "output_type": "display_data"
    }
   ],
   "source": [
    "# Display the report as formatted markdown\n",
    "ReportGenerator.display_markdown(comprehensive_report)"
   ]
  },
  {
   "cell_type": "markdown",
   "id": "404e42e2",
   "metadata": {},
   "source": [
    "## 7. Export Report to PDF (Optional)\n",
    "\n",
    "You can save the comprehensive report to a PDF file for sharing or future reference."
   ]
  },
  {
   "cell_type": "code",
   "execution_count": 45,
   "id": "d903fbd9",
   "metadata": {},
   "outputs": [
    {
     "name": "stdout",
     "output_type": "stream",
     "text": [
      "Report successfully exported to FSLR_analysis_report.pdf\n"
     ]
    }
   ],
   "source": [
    "# Export report to PDF\n",
    "report_status = ReportGenerator.export_report_to_pdf(comprehensive_report, stock_symbol)\n",
    "print(report_status)"
   ]
  },
  {
   "cell_type": "code",
   "execution_count": 58,
   "id": "b5dc6232",
   "metadata": {},
   "outputs": [],
   "source": [
    "# TODO: try this post to check exporting to PDf again\n",
    "# https://saturncloud.io/blog/how-to-export-jupyter-notebook-by-vscode-in-pdf-format/"
   ]
  },
  {
   "cell_type": "code",
   "execution_count": null,
   "id": "202cd59e",
   "metadata": {},
   "outputs": [],
   "source": []
  }
 ],
 "metadata": {
  "kernelspec": {
   "display_name": ".venv",
   "language": "python",
   "name": "python3"
  },
  "language_info": {
   "codemirror_mode": {
    "name": "ipython",
    "version": 3
   },
   "file_extension": ".py",
   "mimetype": "text/x-python",
   "name": "python",
   "nbconvert_exporter": "python",
   "pygments_lexer": "ipython3",
   "version": "3.10.4"
  }
 },
 "nbformat": 4,
 "nbformat_minor": 5
}
